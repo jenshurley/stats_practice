{
 "cells": [
  {
   "cell_type": "code",
   "execution_count": 2,
   "metadata": {
    "collapsed": false
   },
   "outputs": [
    {
     "name": "stdout",
     "output_type": "stream",
     "text": [
      "1\n",
      "2\n",
      "3\n",
      "4\n",
      "5\n",
      "6\n",
      "7\n",
      "8\n",
      "9\n",
      "45\n"
     ]
    }
   ],
   "source": [
    "count = 0\n",
    "p = 10 \n",
    "s = 2\n",
    "for n in range(1,p):\n",
    "    #it isn't p-1 because in Python the upper end of range is not included)\n",
    "    print n\n",
    "    count += n\n",
    "print count\n"
   ]
  },
  {
   "cell_type": "code",
   "execution_count": 3,
   "metadata": {
    "collapsed": false
   },
   "outputs": [
    {
     "name": "stdout",
     "output_type": "stream",
     "text": [
      "1\n",
      "2\n",
      "3\n",
      "4\n",
      "5\n",
      "6\n",
      "7\n",
      "8\n",
      "9\n",
      "10\n",
      "11\n",
      "12\n",
      "13\n",
      "14\n",
      "15\n",
      "16\n",
      "17\n",
      "18\n",
      "19\n",
      "20\n",
      "21\n",
      "22\n",
      "23\n",
      "24\n",
      "25\n",
      "26\n",
      "27\n",
      "28\n",
      "29\n",
      "30\n",
      "31\n",
      "32\n",
      "33\n",
      "34\n",
      "35\n",
      "36\n",
      "37\n",
      "38\n",
      "39\n",
      "40\n",
      "41\n",
      "42\n",
      "43\n",
      "44\n",
      "45\n",
      "46\n",
      "47\n",
      "48\n",
      "49\n",
      "50\n",
      "51\n",
      "52\n",
      "53\n",
      "54\n",
      "55\n",
      "56\n",
      "57\n",
      "58\n",
      "59\n",
      "60\n",
      "61\n",
      "62\n",
      "63\n",
      "64\n",
      "65\n",
      "66\n",
      "67\n",
      "68\n",
      "69\n",
      "70\n",
      "71\n",
      "72\n",
      "73\n",
      "74\n",
      "75\n",
      "76\n",
      "77\n",
      "78\n",
      "79\n",
      "80\n",
      "81\n",
      "82\n",
      "83\n",
      "84\n",
      "85\n",
      "86\n",
      "87\n",
      "88\n",
      "89\n",
      "90\n",
      "91\n",
      "92\n",
      "93\n",
      "94\n",
      "95\n",
      "96\n",
      "97\n",
      "98\n",
      "99\n",
      "4995\n"
     ]
    }
   ],
   "source": [
    "for n in range(1,100):\n",
    "    print n\n",
    "    count += n\n",
    "print count"
   ]
  },
  {
   "cell_type": "code",
   "execution_count": 4,
   "metadata": {
    "collapsed": false
   },
   "outputs": [
    {
     "ename": "UnboundLocalError",
     "evalue": "local variable 'i' referenced before assignment",
     "output_type": "error",
     "traceback": [
      "\u001b[1;31m---------------------------------------------------------------------------\u001b[0m",
      "\u001b[1;31mUnboundLocalError\u001b[0m                         Traceback (most recent call last)",
      "\u001b[1;32m<ipython-input-4-daf22f00264a>\u001b[0m in \u001b[0;36m<module>\u001b[1;34m()\u001b[0m\n\u001b[0;32m     31\u001b[0m         print combs'''\n\u001b[0;32m     32\u001b[0m \u001b[1;33m\u001b[0m\u001b[0m\n\u001b[1;32m---> 33\u001b[1;33m \u001b[0mpair_gen\u001b[0m \u001b[1;33m(\u001b[0m\u001b[1;36m10\u001b[0m\u001b[1;33m)\u001b[0m\u001b[1;33m\u001b[0m\u001b[0m\n\u001b[0m",
      "\u001b[1;32m<ipython-input-4-daf22f00264a>\u001b[0m in \u001b[0;36mpair_gen\u001b[1;34m(pn)\u001b[0m\n\u001b[0;32m      6\u001b[0m \u001b[1;33m\u001b[0m\u001b[0m\n\u001b[0;32m      7\u001b[0m \u001b[1;32mdef\u001b[0m \u001b[0mpair_gen\u001b[0m\u001b[1;33m(\u001b[0m\u001b[0mpn\u001b[0m\u001b[1;33m)\u001b[0m\u001b[1;33m:\u001b[0m\u001b[1;33m\u001b[0m\u001b[0m\n\u001b[1;32m----> 8\u001b[1;33m     \u001b[1;32mfor\u001b[0m \u001b[0mn\u001b[0m \u001b[1;32min\u001b[0m \u001b[0mrange\u001b[0m \u001b[1;33m(\u001b[0m\u001b[1;33m(\u001b[0m\u001b[0mpn\u001b[0m\u001b[1;33m-\u001b[0m\u001b[1;33m(\u001b[0m\u001b[0mpn\u001b[0m\u001b[1;33m-\u001b[0m\u001b[0mi\u001b[0m\u001b[1;33m)\u001b[0m\u001b[1;33m)\u001b[0m\u001b[1;33m,\u001b[0m \u001b[0mpn\u001b[0m\u001b[1;33m)\u001b[0m\u001b[1;33m:\u001b[0m\u001b[1;33m\u001b[0m\u001b[0m\n\u001b[0m\u001b[0;32m      9\u001b[0m         \u001b[0mcount\u001b[0m \u001b[1;33m=\u001b[0m \u001b[0mn\u001b[0m\u001b[1;33m+\u001b[0m\u001b[0mi\u001b[0m\u001b[1;33m\u001b[0m\u001b[0m\n\u001b[0;32m     10\u001b[0m         \u001b[1;32mif\u001b[0m \u001b[0mcount\u001b[0m \u001b[1;33m<=\u001b[0m \u001b[1;36m10\u001b[0m\u001b[1;33m:\u001b[0m\u001b[1;33m\u001b[0m\u001b[0m\n",
      "\u001b[1;31mUnboundLocalError\u001b[0m: local variable 'i' referenced before assignment"
     ]
    }
   ],
   "source": [
    "\n",
    "combs = ()\n",
    "lt = []\n",
    "\n",
    "count = 0\n",
    "\n",
    "def pair_gen(pn):\n",
    "    for n in range ((pn-(pn-i)), pn):\n",
    "        count = n+i \n",
    "        if count <= 10: \n",
    "            combs = (n, count)\n",
    "            i+=1\n",
    "        else:\n",
    "#            break\n",
    "            continue\n",
    "            i+=1\n",
    "        print combs \n",
    "'''    for n in range ((pn-(pn-2)), pn):\n",
    "        count = n+2 \n",
    "        if count <= 10: \n",
    "            combs = (n, count)\n",
    "        else:\n",
    "            break\n",
    "        print combs\n",
    "    for n in range ((pn-(pn-3)), pn):\n",
    "        count = n+3 \n",
    "        if count <= 10: \n",
    "            combs = (n, count)\n",
    "        else:\n",
    "            break\n",
    "        print combs'''\n",
    "\n",
    "pair_gen (10)\n"
   ]
  },
  {
   "cell_type": "code",
   "execution_count": 5,
   "metadata": {
    "collapsed": false
   },
   "outputs": [
    {
     "name": "stdout",
     "output_type": "stream",
     "text": [
      "('a', 'b', 'c')\n",
      "('a', 'c', 'b')\n",
      "('b', 'a', 'c')\n",
      "('b', 'c', 'a')\n",
      "('c', 'a', 'b')\n",
      "('c', 'b', 'a')\n"
     ]
    }
   ],
   "source": [
    "items = ['a', 'b', 'c']\n",
    "from itertools import permutations\n",
    "for p in permutations(items):\n",
    "    print(p)"
   ]
  },
  {
   "cell_type": "code",
   "execution_count": null,
   "metadata": {
    "collapsed": false
   },
   "outputs": [],
   "source": [
    "items = [1, 2]\n",
    "from itertools import permutations\n",
    "for p in permutations(items):\n",
    "    print(p)"
   ]
  },
  {
   "cell_type": "code",
   "execution_count": 4,
   "metadata": {
    "collapsed": true
   },
   "outputs": [],
   "source": [
    "#https://docs.python.org/2/library/itertools.html"
   ]
  },
  {
   "cell_type": "code",
   "execution_count": 5,
   "metadata": {
    "collapsed": false
   },
   "outputs": [
    {
     "name": "stdout",
     "output_type": "stream",
     "text": [
      "81\n",
      "((1, 1), (1, 2), (1, 3), (1, 4), (1, 5), (1, 6), (1, 7), (1, 8), (1, 9), (1, 2), (2, 2), (2, 3), (2, 4), (2, 5), (2, 6), (2, 7), (2, 8), (2, 9), (1, 3), (2, 3), (3, 3), (3, 4), (3, 5), (3, 6), (3, 7), (3, 8), (3, 9), (1, 4), (2, 4), (3, 4), (4, 4), (4, 5), (4, 6), (4, 7), (4, 8), (4, 9), (1, 5), (2, 5), (3, 5), (4, 5), (5, 5), (5, 6), (5, 7), (5, 8), (5, 9), (1, 6), (2, 6), (3, 6), (4, 6), (5, 6), (6, 6), (6, 7), (6, 8), (6, 9), (1, 7), (2, 7), (3, 7), (4, 7), (5, 7), (6, 7), (7, 7), (7, 8), (7, 9), (1, 8), (2, 8), (3, 8), (4, 8), (5, 8), (6, 8), (7, 8), (8, 8), (8, 9), (1, 9), (2, 9), (3, 9), (4, 9), (5, 9), (6, 9), (7, 9), (8, 9), (9, 9))\n"
     ]
    },
    {
     "data": {
      "text/plain": [
       "45"
      ]
     },
     "execution_count": 5,
     "metadata": {},
     "output_type": "execute_result"
    }
   ],
   "source": [
    "from itertools import product\n",
    "count = 0\n",
    "lc = []\n",
    "lt = []\n",
    "for n in product(range(1,10), repeat=2):\n",
    "    count+=1\n",
    "    ln = list(n)\n",
    "    ls =sorted(ln)\n",
    "    lc.append(tuple(ls))\n",
    "\n",
    "\n",
    "print count\n",
    "lt = tuple(lc)\n",
    "print lt\n",
    "u = set(lt)\n",
    "len(u)"
   ]
  },
  {
   "cell_type": "code",
   "execution_count": 19,
   "metadata": {
    "collapsed": false
   },
   "outputs": [
    {
     "name": "stdout",
     "output_type": "stream",
     "text": [
      "[7, 5, 2, 6, 5, 5, 7, 8, 3, 5, 3, 6, 1, 6, 3, 5, 4, 3, 4, 2, 8, 1, 4, 6, 4, 5, 2, 7, 6, 2, 5, 7, 6, 4, 4, 5, 7, 6, 9, 5, 4, 8, 4, 3, 3]\n"
     ]
    }
   ],
   "source": [
    "means = []\n",
    "for a,b in u:\n",
    "    #if a==b:\n",
    "     #   pass\n",
    "    #else:\n",
    "        m = (a+b)/2\n",
    "        means.append(m)\n",
    "print means        \n",
    "    "
   ]
  },
  {
   "cell_type": "code",
   "execution_count": 20,
   "metadata": {
    "collapsed": false
   },
   "outputs": [
    {
     "data": {
      "text/plain": [
       "45"
      ]
     },
     "execution_count": 20,
     "metadata": {},
     "output_type": "execute_result"
    }
   ],
   "source": [
    "len(means)"
   ]
  },
  {
   "cell_type": "code",
   "execution_count": 21,
   "metadata": {
    "collapsed": false
   },
   "outputs": [
    {
     "data": {
      "text/plain": [
       "[1,\n",
       " 1,\n",
       " 2,\n",
       " 2,\n",
       " 2,\n",
       " 2,\n",
       " 3,\n",
       " 3,\n",
       " 3,\n",
       " 3,\n",
       " 3,\n",
       " 3,\n",
       " 4,\n",
       " 4,\n",
       " 4,\n",
       " 4,\n",
       " 4,\n",
       " 4,\n",
       " 4,\n",
       " 4,\n",
       " 5,\n",
       " 5,\n",
       " 5,\n",
       " 5,\n",
       " 5,\n",
       " 5,\n",
       " 5,\n",
       " 5,\n",
       " 5,\n",
       " 6,\n",
       " 6,\n",
       " 6,\n",
       " 6,\n",
       " 6,\n",
       " 6,\n",
       " 6,\n",
       " 7,\n",
       " 7,\n",
       " 7,\n",
       " 7,\n",
       " 7,\n",
       " 8,\n",
       " 8,\n",
       " 8,\n",
       " 9]"
      ]
     },
     "execution_count": 21,
     "metadata": {},
     "output_type": "execute_result"
    }
   ],
   "source": [
    "sm = sorted(means)\n",
    "sm"
   ]
  },
  {
   "cell_type": "code",
   "execution_count": 22,
   "metadata": {
    "collapsed": false
   },
   "outputs": [
    {
     "data": {
      "image/png": "[encoded data removed]",
      "text/plain": [
       "<matplotlib.figure.Figure at 0x7f503a3d3ad0>"
      ]
     },
     "metadata": {},
     "output_type": "display_data"
    }
   ],
   "source": [
    "import pandas as pd \n",
    "import matplotlib.pyplot as plt\n",
    "%matplotlib inline\n",
    "\n",
    "plt.plot(sm)\n",
    "plt.show()"
   ]
  },
  {
   "cell_type": "code",
   "execution_count": 23,
   "metadata": {
    "collapsed": false
   },
   "outputs": [
    {
     "data": {
      "text/plain": [
       "(array([ 2.,  4.,  6.,  8.,  0.,  9.,  7.,  5.,  3.,  1.]),\n",
       " array([ 1. ,  1.8,  2.6,  3.4,  4.2,  5. ,  5.8,  6.6,  7.4,  8.2,  9. ]),\n",
       " <a list of 10 Patch objects>)"
      ]
     },
     "execution_count": 23,
     "metadata": {},
     "output_type": "execute_result"
    },
    {
     "data": {
      "image/png": "[encoded data removed]",
      "text/plain": [
       "<matplotlib.figure.Figure at 0x7f503a61bbd0>"
      ]
     },
     "metadata": {},
     "output_type": "display_data"
    }
   ],
   "source": [
    "plt.hist(means)"
   ]
  },
  {
   "cell_type": "code",
   "execution_count": 25,
   "metadata": {
    "collapsed": false
   },
   "outputs": [
    {
     "data": {
      "text/plain": [
       "45"
      ]
     },
     "execution_count": 25,
     "metadata": {},
     "output_type": "execute_result"
    }
   ],
   "source": [
    "len(u)"
   ]
  },
  {
   "cell_type": "code",
   "execution_count": 26,
   "metadata": {
    "collapsed": false
   },
   "outputs": [
    {
     "data": {
      "text/plain": [
       "45"
      ]
     },
     "execution_count": 26,
     "metadata": {},
     "output_type": "execute_result"
    }
   ],
   "source": [
    "len(means)"
   ]
  },
  {
   "cell_type": "code",
   "execution_count": 30,
   "metadata": {
    "collapsed": false,
    "scrolled": false
   },
   "outputs": [],
   "source": [
    "d = zip(means, u)"
   ]
  },
  {
   "cell_type": "code",
   "execution_count": 32,
   "metadata": {
    "collapsed": false
   },
   "outputs": [],
   "source": [
    "df = pd.DataFrame(d, columns=['means', 'pairs'])"
   ]
  },
  {
   "cell_type": "code",
   "execution_count": 38,
   "metadata": {
    "collapsed": true
   },
   "outputs": [],
   "source": [
    "###A few ways to generate frequecies"
   ]
  },
  {
   "cell_type": "code",
   "execution_count": 46,
   "metadata": {
    "collapsed": false
   },
   "outputs": [
    {
     "data": {
      "text/plain": [
       "1    2\n",
       "2    4\n",
       "3    6\n",
       "4    8\n",
       "5    9\n",
       "6    7\n",
       "7    5\n",
       "8    3\n",
       "9    1\n",
       "dtype: int64"
      ]
     },
     "execution_count": 46,
     "metadata": {},
     "output_type": "execute_result"
    }
   ],
   "source": [
    "df.means.value_counts().sort_index()\n",
    "#using pandas Series method value_counts"
   ]
  },
  {
   "cell_type": "code",
   "execution_count": 35,
   "metadata": {
    "collapsed": true
   },
   "outputs": [],
   "source": [
    "#https://www.safaribooksonline.com/library/view/think-stats-2nd/9781491907344/ch01.html"
   ]
  },
  {
   "cell_type": "code",
   "execution_count": 36,
   "metadata": {
    "collapsed": true
   },
   "outputs": [],
   "source": [
    "hist = {}\n",
    "for v in means:\n",
    "    hist[v] = hist.get(v, 0) + 1\n",
    "#from ThinkStats Ch 2 - dictionary that maps from values to frequencies"
   ]
  },
  {
   "cell_type": "code",
   "execution_count": 47,
   "metadata": {
    "collapsed": false
   },
   "outputs": [
    {
     "data": {
      "text/plain": [
       "{1: 36, 2: 72, 3: 108, 4: 144, 5: 162, 6: 126, 7: 90, 8: 54, 9: 18}"
      ]
     },
     "execution_count": 47,
     "metadata": {},
     "output_type": "execute_result"
    }
   ],
   "source": [
    "hist"
   ]
  },
  {
   "cell_type": "code",
   "execution_count": 48,
   "metadata": {
    "collapsed": false
   },
   "outputs": [
    {
     "data": {
      "text/plain": [
       "Counter({5: 9, 4: 8, 6: 7, 3: 6, 7: 5, 2: 4, 8: 3, 1: 2, 9: 1})"
      ]
     },
     "execution_count": 48,
     "metadata": {},
     "output_type": "execute_result"
    }
   ],
   "source": [
    "from collections import Counter\n",
    "counter = Counter(means)\n",
    "counter"
   ]
  },
  {
   "cell_type": "code",
   "execution_count": 49,
   "metadata": {
    "collapsed": false
   },
   "outputs": [
    {
     "data": {
      "text/html": [
       "<div style=\"max-height:1000px;max-width:1500px;overflow:auto;\">\n",
       "<table border=\"1\" class=\"dataframe\">\n",
       "  <thead>\n",
       "    <tr style=\"text-align: right;\">\n",
       "      <th></th>\n",
       "      <th>means</th>\n",
       "    </tr>\n",
       "  </thead>\n",
       "  <tbody>\n",
       "    <tr>\n",
       "      <th>count</th>\n",
       "      <td> 45.000000</td>\n",
       "    </tr>\n",
       "    <tr>\n",
       "      <th>mean</th>\n",
       "      <td>  4.777778</td>\n",
       "    </tr>\n",
       "    <tr>\n",
       "      <th>std</th>\n",
       "      <td>  1.952724</td>\n",
       "    </tr>\n",
       "    <tr>\n",
       "      <th>min</th>\n",
       "      <td>  1.000000</td>\n",
       "    </tr>\n",
       "    <tr>\n",
       "      <th>25%</th>\n",
       "      <td>  3.000000</td>\n",
       "    </tr>\n",
       "    <tr>\n",
       "      <th>50%</th>\n",
       "      <td>  5.000000</td>\n",
       "    </tr>\n",
       "    <tr>\n",
       "      <th>75%</th>\n",
       "      <td>  6.000000</td>\n",
       "    </tr>\n",
       "    <tr>\n",
       "      <th>max</th>\n",
       "      <td>  9.000000</td>\n",
       "    </tr>\n",
       "  </tbody>\n",
       "</table>\n",
       "<p>8 rows × 1 columns</p>\n",
       "</div>"
      ],
      "text/plain": [
       "           means\n",
       "count  45.000000\n",
       "mean    4.777778\n",
       "std     1.952724\n",
       "min     1.000000\n",
       "25%     3.000000\n",
       "50%     5.000000\n",
       "75%     6.000000\n",
       "max     9.000000\n",
       "\n",
       "[8 rows x 1 columns]"
      ]
     },
     "execution_count": 49,
     "metadata": {},
     "output_type": "execute_result"
    }
   ],
   "source": [
    "df.describe()"
   ]
  },
  {
   "cell_type": "code",
   "execution_count": 52,
   "metadata": {
    "collapsed": true
   },
   "outputs": [],
   "source": [
    "df['xbar']=4.78"
   ]
  },
  {
   "cell_type": "code",
   "execution_count": 54,
   "metadata": {
    "collapsed": false
   },
   "outputs": [],
   "source": [
    "df['deviation'] = (df['xbar']-df['means'])**2"
   ]
  },
  {
   "cell_type": "code",
   "execution_count": 55,
   "metadata": {
    "collapsed": false
   },
   "outputs": [
    {
     "data": {
      "text/html": [
       "<div style=\"max-height:1000px;max-width:1500px;overflow:auto;\">\n",
       "<table border=\"1\" class=\"dataframe\">\n",
       "  <thead>\n",
       "    <tr style=\"text-align: right;\">\n",
       "      <th></th>\n",
       "      <th>means</th>\n",
       "      <th>pairs</th>\n",
       "      <th>xbar</th>\n",
       "      <th>deviation</th>\n",
       "    </tr>\n",
       "  </thead>\n",
       "  <tbody>\n",
       "    <tr>\n",
       "      <th>0 </th>\n",
       "      <td> 7</td>\n",
       "      <td> (5, 9)</td>\n",
       "      <td> 4.78</td>\n",
       "      <td>  4.9284</td>\n",
       "    </tr>\n",
       "    <tr>\n",
       "      <th>1 </th>\n",
       "      <td> 5</td>\n",
       "      <td> (4, 7)</td>\n",
       "      <td> 4.78</td>\n",
       "      <td>  0.0484</td>\n",
       "    </tr>\n",
       "    <tr>\n",
       "      <th>2 </th>\n",
       "      <td> 2</td>\n",
       "      <td> (1, 3)</td>\n",
       "      <td> 4.78</td>\n",
       "      <td>  7.7284</td>\n",
       "    </tr>\n",
       "    <tr>\n",
       "      <th>3 </th>\n",
       "      <td> 6</td>\n",
       "      <td> (4, 8)</td>\n",
       "      <td> 4.78</td>\n",
       "      <td>  1.4884</td>\n",
       "    </tr>\n",
       "    <tr>\n",
       "      <th>4 </th>\n",
       "      <td> 5</td>\n",
       "      <td> (5, 6)</td>\n",
       "      <td> 4.78</td>\n",
       "      <td>  0.0484</td>\n",
       "    </tr>\n",
       "    <tr>\n",
       "      <th>5 </th>\n",
       "      <td> 5</td>\n",
       "      <td> (2, 8)</td>\n",
       "      <td> 4.78</td>\n",
       "      <td>  0.0484</td>\n",
       "    </tr>\n",
       "    <tr>\n",
       "      <th>6 </th>\n",
       "      <td> 7</td>\n",
       "      <td> (6, 9)</td>\n",
       "      <td> 4.78</td>\n",
       "      <td>  4.9284</td>\n",
       "    </tr>\n",
       "    <tr>\n",
       "      <th>7 </th>\n",
       "      <td> 8</td>\n",
       "      <td> (8, 9)</td>\n",
       "      <td> 4.78</td>\n",
       "      <td> 10.3684</td>\n",
       "    </tr>\n",
       "    <tr>\n",
       "      <th>8 </th>\n",
       "      <td> 3</td>\n",
       "      <td> (1, 6)</td>\n",
       "      <td> 4.78</td>\n",
       "      <td>  3.1684</td>\n",
       "    </tr>\n",
       "    <tr>\n",
       "      <th>9 </th>\n",
       "      <td> 5</td>\n",
       "      <td> (3, 7)</td>\n",
       "      <td> 4.78</td>\n",
       "      <td>  0.0484</td>\n",
       "    </tr>\n",
       "    <tr>\n",
       "      <th>10</th>\n",
       "      <td> 3</td>\n",
       "      <td> (2, 5)</td>\n",
       "      <td> 4.78</td>\n",
       "      <td>  3.1684</td>\n",
       "    </tr>\n",
       "    <tr>\n",
       "      <th>11</th>\n",
       "      <td> 6</td>\n",
       "      <td> (5, 8)</td>\n",
       "      <td> 4.78</td>\n",
       "      <td>  1.4884</td>\n",
       "    </tr>\n",
       "    <tr>\n",
       "      <th>12</th>\n",
       "      <td> 1</td>\n",
       "      <td> (1, 2)</td>\n",
       "      <td> 4.78</td>\n",
       "      <td> 14.2884</td>\n",
       "    </tr>\n",
       "    <tr>\n",
       "      <th>13</th>\n",
       "      <td> 6</td>\n",
       "      <td> (4, 9)</td>\n",
       "      <td> 4.78</td>\n",
       "      <td>  1.4884</td>\n",
       "    </tr>\n",
       "    <tr>\n",
       "      <th>14</th>\n",
       "      <td> 3</td>\n",
       "      <td> (3, 3)</td>\n",
       "      <td> 4.78</td>\n",
       "      <td>  3.1684</td>\n",
       "    </tr>\n",
       "    <tr>\n",
       "      <th>15</th>\n",
       "      <td> 5</td>\n",
       "      <td> (2, 9)</td>\n",
       "      <td> 4.78</td>\n",
       "      <td>  0.0484</td>\n",
       "    </tr>\n",
       "    <tr>\n",
       "      <th>16</th>\n",
       "      <td> 4</td>\n",
       "      <td> (4, 4)</td>\n",
       "      <td> 4.78</td>\n",
       "      <td>  0.6084</td>\n",
       "    </tr>\n",
       "    <tr>\n",
       "      <th>17</th>\n",
       "      <td> 3</td>\n",
       "      <td> (1, 5)</td>\n",
       "      <td> 4.78</td>\n",
       "      <td>  3.1684</td>\n",
       "    </tr>\n",
       "    <tr>\n",
       "      <th>18</th>\n",
       "      <td> 4</td>\n",
       "      <td> (3, 6)</td>\n",
       "      <td> 4.78</td>\n",
       "      <td>  0.6084</td>\n",
       "    </tr>\n",
       "    <tr>\n",
       "      <th>19</th>\n",
       "      <td> 2</td>\n",
       "      <td> (2, 2)</td>\n",
       "      <td> 4.78</td>\n",
       "      <td>  7.7284</td>\n",
       "    </tr>\n",
       "    <tr>\n",
       "      <th>20</th>\n",
       "      <td> 8</td>\n",
       "      <td> (7, 9)</td>\n",
       "      <td> 4.78</td>\n",
       "      <td> 10.3684</td>\n",
       "    </tr>\n",
       "    <tr>\n",
       "      <th>21</th>\n",
       "      <td> 1</td>\n",
       "      <td> (1, 1)</td>\n",
       "      <td> 4.78</td>\n",
       "      <td> 14.2884</td>\n",
       "    </tr>\n",
       "    <tr>\n",
       "      <th>22</th>\n",
       "      <td> 4</td>\n",
       "      <td> (2, 6)</td>\n",
       "      <td> 4.78</td>\n",
       "      <td>  0.6084</td>\n",
       "    </tr>\n",
       "    <tr>\n",
       "      <th>23</th>\n",
       "      <td> 6</td>\n",
       "      <td> (6, 6)</td>\n",
       "      <td> 4.78</td>\n",
       "      <td>  1.4884</td>\n",
       "    </tr>\n",
       "    <tr>\n",
       "      <th>24</th>\n",
       "      <td> 4</td>\n",
       "      <td> (4, 5)</td>\n",
       "      <td> 4.78</td>\n",
       "      <td>  0.6084</td>\n",
       "    </tr>\n",
       "    <tr>\n",
       "      <th>25</th>\n",
       "      <td> 5</td>\n",
       "      <td> (5, 5)</td>\n",
       "      <td> 4.78</td>\n",
       "      <td>  0.0484</td>\n",
       "    </tr>\n",
       "    <tr>\n",
       "      <th>26</th>\n",
       "      <td> 2</td>\n",
       "      <td> (1, 4)</td>\n",
       "      <td> 4.78</td>\n",
       "      <td>  7.7284</td>\n",
       "    </tr>\n",
       "    <tr>\n",
       "      <th>27</th>\n",
       "      <td> 7</td>\n",
       "      <td> (7, 7)</td>\n",
       "      <td> 4.78</td>\n",
       "      <td>  4.9284</td>\n",
       "    </tr>\n",
       "    <tr>\n",
       "      <th>28</th>\n",
       "      <td> 6</td>\n",
       "      <td> (3, 9)</td>\n",
       "      <td> 4.78</td>\n",
       "      <td>  1.4884</td>\n",
       "    </tr>\n",
       "    <tr>\n",
       "      <th>29</th>\n",
       "      <td> 2</td>\n",
       "      <td> (2, 3)</td>\n",
       "      <td> 4.78</td>\n",
       "      <td>  7.7284</td>\n",
       "    </tr>\n",
       "    <tr>\n",
       "      <th>30</th>\n",
       "      <td> 5</td>\n",
       "      <td> (1, 9)</td>\n",
       "      <td> 4.78</td>\n",
       "      <td>  0.0484</td>\n",
       "    </tr>\n",
       "    <tr>\n",
       "      <th>31</th>\n",
       "      <td> 7</td>\n",
       "      <td> (6, 8)</td>\n",
       "      <td> 4.78</td>\n",
       "      <td>  4.9284</td>\n",
       "    </tr>\n",
       "    <tr>\n",
       "      <th>32</th>\n",
       "      <td> 6</td>\n",
       "      <td> (6, 7)</td>\n",
       "      <td> 4.78</td>\n",
       "      <td>  1.4884</td>\n",
       "    </tr>\n",
       "    <tr>\n",
       "      <th>33</th>\n",
       "      <td> 4</td>\n",
       "      <td> (3, 5)</td>\n",
       "      <td> 4.78</td>\n",
       "      <td>  0.6084</td>\n",
       "    </tr>\n",
       "    <tr>\n",
       "      <th>34</th>\n",
       "      <td> 4</td>\n",
       "      <td> (2, 7)</td>\n",
       "      <td> 4.78</td>\n",
       "      <td>  0.6084</td>\n",
       "    </tr>\n",
       "    <tr>\n",
       "      <th>35</th>\n",
       "      <td> 5</td>\n",
       "      <td> (4, 6)</td>\n",
       "      <td> 4.78</td>\n",
       "      <td>  0.0484</td>\n",
       "    </tr>\n",
       "    <tr>\n",
       "      <th>36</th>\n",
       "      <td> 7</td>\n",
       "      <td> (7, 8)</td>\n",
       "      <td> 4.78</td>\n",
       "      <td>  4.9284</td>\n",
       "    </tr>\n",
       "    <tr>\n",
       "      <th>37</th>\n",
       "      <td> 6</td>\n",
       "      <td> (5, 7)</td>\n",
       "      <td> 4.78</td>\n",
       "      <td>  1.4884</td>\n",
       "    </tr>\n",
       "    <tr>\n",
       "      <th>38</th>\n",
       "      <td> 9</td>\n",
       "      <td> (9, 9)</td>\n",
       "      <td> 4.78</td>\n",
       "      <td> 17.8084</td>\n",
       "    </tr>\n",
       "    <tr>\n",
       "      <th>39</th>\n",
       "      <td> 5</td>\n",
       "      <td> (3, 8)</td>\n",
       "      <td> 4.78</td>\n",
       "      <td>  0.0484</td>\n",
       "    </tr>\n",
       "    <tr>\n",
       "      <th>40</th>\n",
       "      <td> 4</td>\n",
       "      <td> (1, 8)</td>\n",
       "      <td> 4.78</td>\n",
       "      <td>  0.6084</td>\n",
       "    </tr>\n",
       "    <tr>\n",
       "      <th>41</th>\n",
       "      <td> 8</td>\n",
       "      <td> (8, 8)</td>\n",
       "      <td> 4.78</td>\n",
       "      <td> 10.3684</td>\n",
       "    </tr>\n",
       "    <tr>\n",
       "      <th>42</th>\n",
       "      <td> 4</td>\n",
       "      <td> (1, 7)</td>\n",
       "      <td> 4.78</td>\n",
       "      <td>  0.6084</td>\n",
       "    </tr>\n",
       "    <tr>\n",
       "      <th>43</th>\n",
       "      <td> 3</td>\n",
       "      <td> (3, 4)</td>\n",
       "      <td> 4.78</td>\n",
       "      <td>  3.1684</td>\n",
       "    </tr>\n",
       "    <tr>\n",
       "      <th>44</th>\n",
       "      <td> 3</td>\n",
       "      <td> (2, 4)</td>\n",
       "      <td> 4.78</td>\n",
       "      <td>  3.1684</td>\n",
       "    </tr>\n",
       "  </tbody>\n",
       "</table>\n",
       "<p>45 rows × 4 columns</p>\n",
       "</div>"
      ],
      "text/plain": [
       "    means   pairs  xbar  deviation\n",
       "0       7  (5, 9)  4.78     4.9284\n",
       "1       5  (4, 7)  4.78     0.0484\n",
       "2       2  (1, 3)  4.78     7.7284\n",
       "3       6  (4, 8)  4.78     1.4884\n",
       "4       5  (5, 6)  4.78     0.0484\n",
       "5       5  (2, 8)  4.78     0.0484\n",
       "6       7  (6, 9)  4.78     4.9284\n",
       "7       8  (8, 9)  4.78    10.3684\n",
       "8       3  (1, 6)  4.78     3.1684\n",
       "9       5  (3, 7)  4.78     0.0484\n",
       "10      3  (2, 5)  4.78     3.1684\n",
       "11      6  (5, 8)  4.78     1.4884\n",
       "12      1  (1, 2)  4.78    14.2884\n",
       "13      6  (4, 9)  4.78     1.4884\n",
       "14      3  (3, 3)  4.78     3.1684\n",
       "15      5  (2, 9)  4.78     0.0484\n",
       "16      4  (4, 4)  4.78     0.6084\n",
       "17      3  (1, 5)  4.78     3.1684\n",
       "18      4  (3, 6)  4.78     0.6084\n",
       "19      2  (2, 2)  4.78     7.7284\n",
       "20      8  (7, 9)  4.78    10.3684\n",
       "21      1  (1, 1)  4.78    14.2884\n",
       "22      4  (2, 6)  4.78     0.6084\n",
       "23      6  (6, 6)  4.78     1.4884\n",
       "24      4  (4, 5)  4.78     0.6084\n",
       "25      5  (5, 5)  4.78     0.0484\n",
       "26      2  (1, 4)  4.78     7.7284\n",
       "27      7  (7, 7)  4.78     4.9284\n",
       "28      6  (3, 9)  4.78     1.4884\n",
       "29      2  (2, 3)  4.78     7.7284\n",
       "30      5  (1, 9)  4.78     0.0484\n",
       "31      7  (6, 8)  4.78     4.9284\n",
       "32      6  (6, 7)  4.78     1.4884\n",
       "33      4  (3, 5)  4.78     0.6084\n",
       "34      4  (2, 7)  4.78     0.6084\n",
       "35      5  (4, 6)  4.78     0.0484\n",
       "36      7  (7, 8)  4.78     4.9284\n",
       "37      6  (5, 7)  4.78     1.4884\n",
       "38      9  (9, 9)  4.78    17.8084\n",
       "39      5  (3, 8)  4.78     0.0484\n",
       "40      4  (1, 8)  4.78     0.6084\n",
       "41      8  (8, 8)  4.78    10.3684\n",
       "42      4  (1, 7)  4.78     0.6084\n",
       "43      3  (3, 4)  4.78     3.1684\n",
       "44      3  (2, 4)  4.78     3.1684\n",
       "\n",
       "[45 rows x 4 columns]"
      ]
     },
     "execution_count": 55,
     "metadata": {},
     "output_type": "execute_result"
    }
   ],
   "source": [
    "df"
   ]
  },
  {
   "cell_type": "markdown",
   "metadata": {},
   "source": [
    "Cohen's d \n",
    "def CohenEffectSize(group1, group2):\n",
    "    diff = group1.mean() - group2.mean()\n",
    "\n",
    "    var1 = group1.var()\n",
    "    var2 = group2.var()\n",
    "    n1, n2 = len(group1), len(group2)\n",
    "\n",
    "    pooled_var = (n1 * var1 + n2 * var2) / (n1 + n2)\n",
    "    d = diff / math.sqrt(pooled_var)\n",
    "    return d\n",
    "ThinkStats CH2"
   ]
  }
 ],
 "metadata": {
  "kernelspec": {
   "display_name": "Python 2",
   "language": "python",
   "name": "python2"
  },
  "language_info": {
   "codemirror_mode": {
    "name": "ipython",
    "version": 2
   },
   "file_extension": ".py",
   "mimetype": "text/x-python",
   "name": "python",
   "nbconvert_exporter": "python",
   "pygments_lexer": "ipython2",
   "version": "2.7.6"
  }
 },
 "nbformat": 4,
 "nbformat_minor": 0
}
